{
 "cells": [
  {
   "cell_type": "code",
   "execution_count": 1,
   "metadata": {
    "collapsed": true
   },
   "outputs": [],
   "source": [
    "import numpy as np\n",
    "import matplotlib.pyplot as plt\n",
    "import datetime\n",
    "from sklearn.linear_model.logistic import LogisticRegression\n",
    "from sklearn.model_selection import train_test_split\n",
    "from sklearn.ensemble import RandomForestClassifier\n",
    "from sklearn.metrics import confusion_matrix, precision_score, precision_recall_curve, roc_curve\n",
    "from sklearn.model_selection import cross_val_predict,cross_val_score\n",
    "from sklearn.discriminant_analysis import LinearDiscriminantAnalysis\n",
    "import pickle"
   ]
  },
  {
   "cell_type": "code",
   "execution_count": null,
   "metadata": {
    "collapsed": true
   },
   "outputs": [],
   "source": [
    "# Read in data\n",
    "forex_data = pd.read_csv('data/GBPUSD1m.txt', header=None)\n",
    "forex_data.columns = ['Time', 'Bid', 'Ask']\n",
    "forex_data['Midpoint'] = (forex_data['Bid'] + forex_data['Ask']) * 0.5\n",
    "# Parse date\n",
    "forex_data['Time'] = [datetime.datetime.strptime(str(x), '%Y%m%d%H%M%S') for x in forex_data['Time']]\n",
    "forex_data.set_index('Time', inplace=True)\n",
    "forex_data.to_csv('data/forex_csv.csv')\n",
    "# Using the last day as test date\n",
    "forex_data_train = forex_data[forex_data.index < pd.Timestamp('20130531')]\n",
    "forex_data_test = forex_data[forex_data.index >= pd.Timestamp('20130531')]\n",
    "pickle.dump(forex_data, open('data/forex_data', 'wb'))\n",
    "pickle.dump(forex_data_train, open('data/forex_data_train', 'wb'))\n",
    "pickle.dump(forex_data_test, open('data/forex_data_test', 'wb'))"
   ]
  },
  {
   "cell_type": "code",
   "execution_count": null,
   "metadata": {
    "collapsed": true
   },
   "outputs": [],
   "source": [
    "def patternList(pattern_length, forward_steps, data):\n",
    "    '''\n",
    "    Create patterns and target to predict\n",
    "    '''\n",
    "    N = len(data) - 1 - forward_steps\n",
    "    pattern_list = np.zeros((N - pattern_length, pattern_length))\n",
    "    outcome_list = np.zeros(N - pattern_length)\n",
    "    for i in range(N - pattern_length):\n",
    "        pattern = np.diff(data['Midpoint'][i:i + 1 + pattern_length])\n",
    "        pattern_list[i, :] = pattern\n",
    "        outcome_list[i] = data['Midpoint'][i + 1 + pattern_length + forward_steps] - data['Midpoint'][\n",
    "            i + 1 + pattern_length]\n",
    "        if i % 100000 == 0:\n",
    "            plt.plot(pattern)\n",
    "    return pattern_list, outcome_list"
   ]
  },
  {
   "cell_type": "code",
   "execution_count": null,
   "metadata": {
    "collapsed": true
   },
   "outputs": [],
   "source": [
    "length_of_pattern = 50\n",
    "number_of_forward_steps = 10\n",
    "patterns, outcomes = patternList(length_of_pattern, number_of_forward_steps, forex_data)\n",
    "plt.show()\n",
    "pickle.dump(patterns, open('data/patterns', 'wb'))\n",
    "pickle.dump(outcomes, open('data/outcomes', 'wb'))\n",
    "\n",
    "patterns_train, outcomes_train = patternList(length_of_pattern, number_of_forward_steps, forex_data_train)\n",
    "patterns_test, outcomes_test = patternList(length_of_pattern, number_of_forward_steps, forex_data_test)\n",
    "\n",
    "pickle.dump(patterns_train, open('data/patterns_train', 'wb'))\n",
    "pickle.dump(outcomes_train, open('data/outcomes_train', 'wb'))\n",
    "pickle.dump(patterns_test, open('data/patterns_test', 'wb'))\n",
    "pickle.dump(outcomes_test, open('data/outcomes_test', 'wb'))"
   ]
  },
  {
   "cell_type": "code",
   "execution_count": 2,
   "metadata": {
    "collapsed": true
   },
   "outputs": [],
   "source": [
    "length_of_pattern = 50\n",
    "number_of_forward_steps = 10\n",
    "\n",
    "X = pickle.load(open('data/patterns', 'rb'))\n",
    "y = pickle.load(open('data/outcomes', 'rb'))\n",
    "\n",
    "X_train, X_test, y_train, y_test = train_test_split(X, y, test_size=0.2,random_state=42)\n",
    "# Avoid data leak\n",
    "X_train = 1e4 * X_train\n",
    "X_test = 1e4 * X_test\n",
    "# Identify if price increases or not， use as target\n",
    "y_train_bin = y_train > 0\n",
    "y_test_bin = y_test > 0"
   ]
  },
  {
   "cell_type": "code",
   "execution_count": 34,
   "metadata": {
    "collapsed": false
   },
   "outputs": [
    {
     "data": {
      "text/html": [
       "<div>\n",
       "<style>\n",
       "    .dataframe thead tr:only-child th {\n",
       "        text-align: right;\n",
       "    }\n",
       "\n",
       "    .dataframe thead th {\n",
       "        text-align: left;\n",
       "    }\n",
       "\n",
       "    .dataframe tbody tr th {\n",
       "        vertical-align: top;\n",
       "    }\n",
       "</style>\n",
       "<table border=\"1\" class=\"dataframe\">\n",
       "  <thead>\n",
       "    <tr style=\"text-align: right;\">\n",
       "      <th></th>\n",
       "      <th>Bid</th>\n",
       "      <th>Ask</th>\n",
       "      <th>Midpoint</th>\n",
       "    </tr>\n",
       "    <tr>\n",
       "      <th>Time</th>\n",
       "      <th></th>\n",
       "      <th></th>\n",
       "      <th></th>\n",
       "    </tr>\n",
       "  </thead>\n",
       "  <tbody>\n",
       "    <tr>\n",
       "      <th>2013-05-01</th>\n",
       "      <td>1.55358</td>\n",
       "      <td>1.55371</td>\n",
       "      <td>1.553645</td>\n",
       "    </tr>\n",
       "    <tr>\n",
       "      <th>2013-05-01</th>\n",
       "      <td>1.55357</td>\n",
       "      <td>1.55369</td>\n",
       "      <td>1.553630</td>\n",
       "    </tr>\n",
       "    <tr>\n",
       "      <th>2013-05-01</th>\n",
       "      <td>1.55353</td>\n",
       "      <td>1.55367</td>\n",
       "      <td>1.553600</td>\n",
       "    </tr>\n",
       "    <tr>\n",
       "      <th>2013-05-01</th>\n",
       "      <td>1.55349</td>\n",
       "      <td>1.55367</td>\n",
       "      <td>1.553580</td>\n",
       "    </tr>\n",
       "    <tr>\n",
       "      <th>2013-05-01</th>\n",
       "      <td>1.55349</td>\n",
       "      <td>1.55367</td>\n",
       "      <td>1.553580</td>\n",
       "    </tr>\n",
       "  </tbody>\n",
       "</table>\n",
       "</div>"
      ],
      "text/plain": [
       "                Bid      Ask  Midpoint\n",
       "Time                                  \n",
       "2013-05-01  1.55358  1.55371  1.553645\n",
       "2013-05-01  1.55357  1.55369  1.553630\n",
       "2013-05-01  1.55353  1.55367  1.553600\n",
       "2013-05-01  1.55349  1.55367  1.553580\n",
       "2013-05-01  1.55349  1.55367  1.553580"
      ]
     },
     "execution_count": 34,
     "metadata": {},
     "output_type": "execute_result"
    }
   ],
   "source": [
    "forex = pickle.load(open('data/forex_data', 'rb'))\n",
    "forex.head()"
   ]
  },
  {
   "cell_type": "code",
   "execution_count": 22,
   "metadata": {
    "collapsed": false
   },
   "outputs": [
    {
     "data": {
      "image/png": "[encoded data removed]",
      "text/plain": [
       "<matplotlib.figure.Figure at 0x13aa998d0>"
      ]
     },
     "metadata": {},
     "output_type": "display_data"
    }
   ],
   "source": [
    "%matplotlib inline\n",
    "forex['Midpoint'].resample('D').mean().plot()\n",
    "plt.show()"
   ]
  },
  {
   "cell_type": "code",
   "execution_count": 23,
   "metadata": {
    "collapsed": false
   },
   "outputs": [
    {
     "data": {
      "image/png": "[encoded data removed]",
      "text/plain": [
       "<matplotlib.figure.Figure at 0x13aa99890>"
      ]
     },
     "metadata": {},
     "output_type": "display_data"
    }
   ],
   "source": [
    "%matplotlib inline\n",
    "forex['Midpoint'].resample('D').std().plot()\n",
    "plt.show()"
   ]
  },
  {
   "cell_type": "code",
   "execution_count": 25,
   "metadata": {
    "collapsed": false
   },
   "outputs": [
    {
     "data": {
      "image/png": "[encoded data removed]",
      "text/plain": [
       "<matplotlib.figure.Figure at 0x13afccb10>"
      ]
     },
     "metadata": {},
     "output_type": "display_data"
    }
   ],
   "source": [
    "%matplotlib inline\n",
    "forex['Midpoint'].resample('D').count().plot()\n",
    "plt.show()"
   ]
  },
  {
   "cell_type": "code",
   "execution_count": 3,
   "metadata": {
    "collapsed": false
   },
   "outputs": [
    {
     "name": "stdout",
     "output_type": "stream",
     "text": [
      "(1310240, 50)\n"
     ]
    }
   ],
   "source": [
    "print(X_train.shape)\n",
    "logit_clf = LogisticRegression()\n",
    "logit_clf.fit(X_train, y_train_bin)\n",
    "logit_pred = logit_clf.predict(X_train)\n",
    "logit_correct_pred = logit_pred[logit_pred == y_train_bin]"
   ]
  },
  {
   "cell_type": "code",
   "execution_count": 4,
   "metadata": {
    "collapsed": true
   },
   "outputs": [],
   "source": [
    "y_train_pred = cross_val_predict(logit_clf, X_train, y_train_bin, cv=10)"
   ]
  },
  {
   "cell_type": "code",
   "execution_count": 5,
   "metadata": {
    "collapsed": false
   },
   "outputs": [
    {
     "name": "stdout",
     "output_type": "stream",
     "text": [
      "[[576591 104694]\n",
      " [513179 115776]]\n"
     ]
    }
   ],
   "source": [
    "conf_mx = confusion_matrix(y_train_bin, y_train_pred)\n",
    "print(conf_mx)"
   ]
  },
  {
   "cell_type": "code",
   "execution_count": 15,
   "metadata": {
    "collapsed": false
   },
   "outputs": [
    {
     "name": "stdout",
     "output_type": "stream",
     "text": [
      "('Logistic Regression Model fit on training data with random split', 0.5288107522285993)\n",
      "('Logistic Regression Model fit on test data with random split', 0.5288313591403102)\n"
     ]
    }
   ],
   "source": [
    "from __future__ import division\n",
    "logit_success_rate = len(logit_correct_pred)/len(logit_pred)\n",
    "logit_test_pred = logit_clf.predict(X_test)\n",
    "logit_test_acc = len(y_test_bin[y_test_bin == logit_test_pred])/len(y_test_bin)\n",
    "print('Logistic Regression Model fit on training data with random split', logit_success_rate)\n",
    "print('Logistic Regression Model fit on test data with random split', logit_test_acc)"
   ]
  },
  {
   "cell_type": "code",
   "execution_count": 26,
   "metadata": {
    "collapsed": false
   },
   "outputs": [
    {
     "name": "stdout",
     "output_type": "stream",
     "text": [
      "('Correct down move prediction: ', 0.8536055806771268)\n",
      "('Correct up move prediction', 0.17484154071184788)\n"
     ]
    }
   ],
   "source": [
    "# use last day data as test\n",
    "X_train = pickle.load(open('data/patterns_train', 'rb'))\n",
    "y_train = pickle.load(open('data/outcomes_train', 'rb'))\n",
    "\n",
    "X_train = 1e4 * X_train\n",
    "y_train_bin = y_train > 0\n",
    "\n",
    "logit_clf.fit(X_train,y_train_bin)\n",
    "\n",
    "y_train_pred = cross_val_predict(logit_clf, X_train, y_train_bin,cv=3)\n",
    "logit_correct_pred = y_train_pred[y_train_pred == y_train_bin]\n",
    "\n",
    "correct_down_move_pred = len(y_train_bin[~y_train_bin & ~y_train_pred])/len(y_train_bin[~y_train_bin])\n",
    "correct_up_move_pred = len(y_train_bin[y_train_bin & y_train_pred])/len(y_train_bin[y_train_bin])\n",
    "\n",
    "print('Correct down move prediction: ', correct_down_move_pred)\n",
    "print('Correct up move prediction', correct_up_move_pred)"
   ]
  },
  {
   "cell_type": "code",
   "execution_count": 27,
   "metadata": {
    "collapsed": false
   },
   "outputs": [
    {
     "name": "stdout",
     "output_type": "stream",
     "text": [
      "('Confusion matrix', array([[694304, 119074],\n",
      "       [617726, 130889]]))\n",
      "('Logistic Regression fit', 0.528294941142502)\n"
     ]
    }
   ],
   "source": [
    "conf_train_mx = confusion_matrix(y_train_bin,y_train_pred)\n",
    "print('Confusion matrix', conf_train_mx)\n",
    "logit_train_success_rate = float(len(logit_correct_pred))/len(y_train_pred)\n",
    "print('Logistic Regression fit', logit_train_success_rate)"
   ]
  },
  {
   "cell_type": "code",
   "execution_count": 28,
   "metadata": {
    "collapsed": false
   },
   "outputs": [
    {
     "name": "stdout",
     "output_type": "stream",
     "text": [
      "('Logistic Regression Model test accuracy', 0.5263776305019408)\n",
      "38898\n",
      "61633\n",
      "75746\n",
      "('Test confusion matrix: ', array([[32328,  6570],\n",
      "       [29305,  7543]]))\n"
     ]
    }
   ],
   "source": [
    "X_test = pickle.load(open('data/patterns_test', 'rb'))\n",
    "X_test = 1e4 * X_test\n",
    "y_test = pickle.load(open('data/outcomes_test', 'rb'))\n",
    "\n",
    "y_test_bin = y_test > 0\n",
    "logit_test_pred = logit_clf.predict(X_test)\n",
    "logit_test_acc = len(y_test_bin[y_test_bin == logit_test_pred])/len(y_test_bin)\n",
    "print('Logistic Regression Model test accuracy', logit_test_acc)\n",
    "\n",
    "print(len(y_test_bin[~y_test_bin]))\n",
    "print(len(logit_test_pred[~logit_test_pred]))\n",
    "print(len(y_test_bin))\n",
    "\n",
    "\n",
    "conf_test_mx = confusion_matrix(y_test_bin, logit_test_pred)\n",
    "\n",
    "print('Test confusion matrix: ', conf_test_mx)"
   ]
  },
  {
   "cell_type": "code",
   "execution_count": 29,
   "metadata": {
    "collapsed": false
   },
   "outputs": [
    {
     "data": {
      "text/plain": [
       "[<matplotlib.lines.Line2D at 0x137c4cf50>]"
      ]
     },
     "execution_count": 29,
     "metadata": {},
     "output_type": "execute_result"
    },
    {
     "data": {
      "image/png": "[encoded data removed]",
      "text/plain": [
       "<matplotlib.figure.Figure at 0x13b09f8d0>"
      ]
     },
     "metadata": {},
     "output_type": "display_data"
    }
   ],
   "source": [
    "def profit(predictions, data):\n",
    "    profit_loss = []\n",
    "    for i in range(len(predictions)):\n",
    "        if predictions[i]:\n",
    "            profit_loss.append(data[i])\n",
    "        else:\n",
    "            profit_loss.append(-data[i])\n",
    "    return np.cumsum(profit_loss)\n",
    "\n",
    "P_L_test = profit(logit_test_pred,y_test)\n",
    "plt.plot(P_L_test, label='Logistic Regression Model')"
   ]
  },
  {
   "cell_type": "code",
   "execution_count": 30,
   "metadata": {
    "collapsed": false
   },
   "outputs": [
    {
     "name": "stdout",
     "output_type": "stream",
     "text": [
      "[[19474 18411]\n",
      " [19424 18437]]\n"
     ]
    }
   ],
   "source": [
    "coin_flips = np.random.binomial(1, 0.5, len(y_test))\n",
    "P_L_random = profit(coin_flips, y_test)\n",
    "\n",
    "print(confusion_matrix(coin_flips,y_test_bin))"
   ]
  },
  {
   "cell_type": "code",
   "execution_count": 31,
   "metadata": {
    "collapsed": true
   },
   "outputs": [],
   "source": [
    "lda_clf = LinearDiscriminantAnalysis()\n",
    "lda_clf.fit(X_train, y_train_bin)\n",
    "\n",
    "P_L_lda = profit(lda_clf.predict(X_test), y_test)"
   ]
  },
  {
   "cell_type": "code",
   "execution_count": 33,
   "metadata": {
    "collapsed": false
   },
   "outputs": [
    {
     "data": {
      "image/png": "[encoded data removed]",
      "text/plain": [
       "<matplotlib.figure.Figure at 0x109dec990>"
      ]
     },
     "metadata": {},
     "output_type": "display_data"
    }
   ],
   "source": [
    "plt.plot(P_L_test, label='Logistic Regression Model')\n",
    "plt.plot(P_L_lda, label='Linear Discriminant Model')\n",
    "plt.plot(P_L_random, label='Random Model')\n",
    "plt.legend(loc='upper left')\n",
    "plt.show()\n"
   ]
  },
  {
   "cell_type": "code",
   "execution_count": 36,
   "metadata": {
    "collapsed": false
   },
   "outputs": [],
   "source": [
    "def long_short(pattern_length, forward_steps, data):\n",
    "    '''\n",
    "    Create long_short list to help making decision to long, short or do nothing.\n",
    "    For certain time point, Ask (buy) >  Bid (sell). Otherwise, it becomes an arbitrage.\n",
    "    If Bid[forward] > Ask[current], then we should buy.\n",
    "    If Bid[current] > Ask[forward], then we should sell.\n",
    "    Otherwise, we do nothing. \n",
    "    The target becomes a tri-state variable.\n",
    "    '''\n",
    "    N = len(data) - 1 - forward_steps\n",
    "    long_short_list = []\n",
    "    for i in range(N - pattern_length):\n",
    "        long_short_list.append(\n",
    "            (data['Bid'][i + 1 + pattern_length + forward_steps] - data['Ask'][i + 1 + pattern_length], \\\n",
    "             data['Ask'][i + 1 + pattern_length + forward_steps] - data['Bid'][i + 1 + pattern_length]))\n",
    "    return long_short_list"
   ]
  },
  {
   "cell_type": "code",
   "execution_count": 37,
   "metadata": {
    "collapsed": true
   },
   "outputs": [],
   "source": [
    "length_of_pattern = 50\n",
    "number_of_forward_steps = 10\n",
    "\n",
    "forex_data_train = pickle.load(open('data/forex_data_train', 'rb'))\n",
    "forex_data_test = pickle.load(open('data/forex_data_test', 'rb'))\n",
    "\n",
    "bid_ask_train = long_short(length_of_pattern, number_of_forward_steps, forex_data_train)\n",
    "bid_ask_test = long_short(length_of_pattern, number_of_forward_steps, forex_data_test)\n",
    "\n",
    "pickle.dump(bid_ask_train, open('data/bid_ask_train', 'wb'))\n",
    "pickle.dump(bid_ask_test, open('data/bid_ask_test', 'wb'))"
   ]
  },
  {
   "cell_type": "code",
   "execution_count": 38,
   "metadata": {
    "collapsed": true
   },
   "outputs": [],
   "source": [
    "X_train =pickle.load(open('data/patterns_train','rb'))\n",
    "y_train =pickle.load(open('data/bid_ask_train','rb'))\n",
    "X_train = 1e4 * X_train\n",
    "X_test =pickle.load(open('data/patterns_test','rb'))\n",
    "X_test = 1e4 * X_test\n",
    "y_test =pickle.load(open('data/bid_ask_test','rb'))"
   ]
  }
 ],
 "metadata": {
  "kernelspec": {
   "display_name": "Python 2",
   "language": "python",
   "name": "python2"
  },
  "language_info": {
   "codemirror_mode": {
    "name": "ipython",
    "version": 2
   },
   "file_extension": ".py",
   "mimetype": "text/x-python",
   "name": "python",
   "nbconvert_exporter": "python",
   "pygments_lexer": "ipython2",
   "version": "2.7.10"
  }
 },
 "nbformat": 4,
 "nbformat_minor": 0
}
